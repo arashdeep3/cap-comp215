{
 "cells": [
  {
   "cell_type": "markdown",
   "source": [
    "# Spatial Simulation Modelling with Cellular Automata\n",
    "Our week 8 lesson workbook, available on Github from the powderflask/cap-comp215 repository.\n",
    "\n",
    "As usual, the first code block just imports the modules we will use."
   ],
   "metadata": {
    "collapsed": false
   },
   "id": "fcc9eeabd29b3b4b"
  },
  {
   "cell_type": "code",
   "execution_count": null,
   "outputs": [],
   "source": [
    "%matplotlib inline\n",
    "\n",
    "import re\n",
    "import matplotlib\n",
    "import matplotlib.pyplot as plt\n",
    "from matplotlib import animation\n",
    "import numpy as np\n",
    "from scipy.signal import correlate2d\n",
    "\n",
    "# Configure matplotlib's animation library to work in the browser.\n",
    "matplotlib.rc('animation', html='jshtml')"
   ],
   "metadata": {
    "collapsed": false
   },
   "id": "d5dd0c9d0900b983"
  }
 ],
 "metadata": {
  "kernelspec": {
   "display_name": "Python 3",
   "language": "python",
   "name": "python3"
  },
  "language_info": {
   "codemirror_mode": {
    "name": "ipython",
    "version": 2
   },
   "file_extension": ".py",
   "mimetype": "text/x-python",
   "name": "python",
   "nbconvert_exporter": "python",
   "pygments_lexer": "ipython2",
   "version": "2.7.6"
  }
 },
 "nbformat": 4,
 "nbformat_minor": 5
}
