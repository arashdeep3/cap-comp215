{
 "cells": [
  {
   "cell_type": "markdown",
   "source": [
    "# Performance Metric Abstractions\n",
    "\n",
    "We will learn how to determine the [computational complexity](https://en.wikipedia.org/wiki/Computational_complexity) of an algorithm and express that in [Big-O notation](https://en.wikipedia.org/wiki/Big_O_notation).  \n",
    "\n",
    "While that theoretical time complexity of an algorithm sets a lower bound on how fast the computation can be completed, there are many other practical factors that can have a significant influence on an algorithm's performance.\n",
    "\n",
    "The abstractions developed in this notebook provide some basic tools for measuring and analyzing algorithm performance."
   ],
   "metadata": {
    "collapsed": false
   },
   "id": "e306b0dec5289a64"
  },
  {
   "cell_type": "code",
   "execution_count": 12,
   "outputs": [],
   "source": [
    "%matplotlib inline\n",
    "\n",
    "import time\n",
    "import matplotlib.pyplot as plt\n",
    "from functools import wraps\n",
    "from timeit import timeit"
   ],
   "metadata": {
    "collapsed": false,
    "ExecuteTime": {
     "end_time": "2024-01-08T04:29:31.099344Z",
     "start_time": "2024-01-08T04:29:31.096362Z"
    }
   },
   "id": "5e89b9691fff08d1"
  },
  {
   "cell_type": "markdown",
   "source": [
    "## A Time Consuming Algorithm\n",
    "To demonstrate the performance tools below, we just need an algorithm that takes a lot of computation.  A recursive [`Fibonacci`](https://en.wikipedia.org/wiki/Fibonacci) is an infamous example of inefficiency...."
   ],
   "metadata": {
    "collapsed": false
   },
   "id": "d100cad4260dddbc"
  },
  {
   "cell_type": "code",
   "execution_count": 13,
   "outputs": [
    {
     "data": {
      "text/plain": "'First 10 Fibonacci numbers: [1, 1, 2, 3, 5, 8, 13, 21, 34, 55]'"
     },
     "execution_count": 13,
     "metadata": {},
     "output_type": "execute_result"
    }
   ],
   "source": [
    "def fib(n):\n",
    "    \"\"\" Returns the n-th Fibonacci number \"\"\"\n",
    "    if n < 3:\n",
    "        return 1\n",
    "    else:\n",
    "        return fib(n-1) + fib(n-2)\n",
    "\n",
    "assert fib(8) == 21\n",
    "f\"First 10 Fibonacci numbers: {[fib(i) for i in range(1, 11)]}\""
   ],
   "metadata": {
    "collapsed": false,
    "ExecuteTime": {
     "end_time": "2024-01-08T04:29:31.115736Z",
     "start_time": "2024-01-08T04:29:31.100744Z"
    }
   },
   "id": "72c5f5c5951f93bf"
  },
  {
   "cell_type": "markdown",
   "source": [
    "## Three Ways Measure Performance\n",
    "3 common tools for measuring algorithm run times:\n",
    "1. `time` module's \"[performance counter](https://docs.python.org/3/library/time.html?highlight=time#time.perf_counter)\"\n",
    "2. [`%time`](https://ipython.readthedocs.io/en/stable/interactive/magics.html#magic-time) notebook \"magic\" \n",
    "3. [`timeit`](https://docs.python.org/3/library/timeit.html) \"a simple way to time small bits of Python code\""
   ],
   "metadata": {
    "collapsed": false
   },
   "id": "dd4942fbdb9d7d88"
  },
  {
   "cell_type": "code",
   "execution_count": 14,
   "outputs": [
    {
     "name": "stdout",
     "output_type": "stream",
     "text": [
      "Fib took: 0.38321287500002654 seconds.\n",
      "CPU times: user 361 ms, sys: 12.7 ms, total: 374 ms\n",
      "Wall time: 374 ms\n",
      "\n",
      "Fib avg. time: 0.3712531499999955 seconds.\n"
     ]
    }
   ],
   "source": [
    "# (1) Simple: record the start and end time for an algorithm, compute elapsed time \n",
    "start = time.perf_counter()\n",
    "fib(33)\n",
    "end= time.perf_counter()\n",
    "print(f'Fib took: {end-start} seconds.\\n')\n",
    "\n",
    "# (2) %time magic does same with a single keyword - only works in notebooks!\n",
    "%time fib(33)\n",
    "\n",
    "# (3) A more robust timing tests that runs code a number of times and reports on total run time\n",
    "s = timeit(lambda: fib(33),  number=5) / 5\n",
    "print(f'\\nFib avg. time: {s} seconds.')"
   ],
   "metadata": {
    "collapsed": false,
    "ExecuteTime": {
     "end_time": "2024-01-08T04:29:33.722168Z",
     "start_time": "2024-01-08T04:29:31.170558Z"
    }
   },
   "id": "ba123e152705a6b1"
  },
  {
   "cell_type": "code",
   "execution_count": 15,
   "id": "initial_id",
   "metadata": {
    "collapsed": true,
    "ExecuteTime": {
     "end_time": "2024-01-08T04:29:37.878149Z",
     "start_time": "2024-01-08T04:29:33.791947Z"
    }
   },
   "outputs": [
    {
     "data": {
      "text/plain": "[<matplotlib.lines.Line2D at 0x1671f69d0>]"
     },
     "execution_count": 15,
     "metadata": {},
     "output_type": "execute_result"
    },
    {
     "data": {
      "text/plain": "<Figure size 640x480 with 1 Axes>",
      "image/png": "[encoded data removed]"
     },
     "metadata": {},
     "output_type": "display_data"
    }
   ],
   "source": [
    "ns = (10, 20, 25, 30, 33, 36)\n",
    "timings = [\n",
    "    timeit(lambda: fib(n),  number=2)/2\n",
    "        for n in ns\n",
    "]\n",
    "plt.plot(ns, timings) "
   ]
  },
  {
   "cell_type": "markdown",
   "source": [
    "## A performance \"decorator\"\n",
    "Decorators are covered in `foundations/06-higher-order-functions`\n",
    "Here's a handy, reusable one for measuring and reporting on the performance of a function..."
   ],
   "metadata": {
    "collapsed": false
   },
   "id": "3e7c75d8416be6f5"
  },
  {
   "cell_type": "code",
   "execution_count": 16,
   "outputs": [],
   "source": [
    "def performance(f):\n",
    "    \"\"\" Return a decorator that will execute function f and record the time it takes to execute.\"\"\"\n",
    "    @wraps(f)\n",
    "    def performance_timer(*args):\n",
    "        start = time.perf_counter()\n",
    "        v = f(*args)\n",
    "        end = time.perf_counter()\n",
    "        print(f'Performance of {f.__name__}{args}: {end-start} seconds.')\n",
    "        return v\n",
    "    return performance_timer"
   ],
   "metadata": {
    "collapsed": false,
    "ExecuteTime": {
     "end_time": "2024-01-08T04:29:37.881825Z",
     "start_time": "2024-01-08T04:29:37.879683Z"
    }
   },
   "id": "f197cbcca9fcfda"
  },
  {
   "cell_type": "markdown",
   "source": [
    "### Decorate any functions\n",
    "This decorator can be added very quickly to any function to get a performance measure.\n",
    "\n",
    "Here's a usage example for the amazing [Sieve of Eratosthenes](https://en.wikipedia.org/wiki/Sieve_of_Eratosthenes) algorithm"
   ],
   "metadata": {
    "collapsed": false
   },
   "id": "f551d20182938c71"
  },
  {
   "cell_type": "code",
   "execution_count": 17,
   "outputs": [
    {
     "name": "stdout",
     "output_type": "stream",
     "text": [
      "Performance of largest_prime(1000000,): 0.07912425000000667 seconds.\n",
      "Performance of largest_prime(10000000,): 1.0501771660000259 seconds.\n",
      "largest prime under 10M: 9999991\n"
     ]
    }
   ],
   "source": [
    "# Sample use\n",
    "def sieve_of_eratosthenes(n):\n",
    "    \"\"\" Returns a list of the prime numbers <=n \"\"\"\n",
    "    sieve = [True]*(n+3)\n",
    "    for i in range(2, int(n**0.5)+1):\n",
    "        if sieve[i]:\n",
    "            for j in range(i*2, n+1, i):\n",
    "                sieve[j] = False\n",
    "    return [i for i in range(2, n) if sieve[i]]\n",
    "\n",
    "assert sieve_of_eratosthenes(30) == [2, 3, 5, 7, 11, 13, 17, 19, 23, 29]\n",
    "\n",
    "@performance\n",
    "def largest_prime(n):\n",
    "    \"\"\" Returns the largest prime that is less than n \"\"\"\n",
    "    if n < 2:\n",
    "        return None\n",
    "    return sieve_of_eratosthenes(n)[-1]\n",
    "\n",
    "under_1m = largest_prime(1000000)\n",
    "under_10m = largest_prime(10000000)\n",
    "print(f\"largest prime under 10M: {under_10m}\")"
   ],
   "metadata": {
    "collapsed": false,
    "ExecuteTime": {
     "end_time": "2024-01-08T04:29:39.015882Z",
     "start_time": "2024-01-08T04:29:37.904938Z"
    }
   },
   "id": "e6892a9c9db4c1e7"
  },
  {
   "cell_type": "code",
   "execution_count": 17,
   "outputs": [],
   "source": [],
   "metadata": {
    "collapsed": false,
    "ExecuteTime": {
     "end_time": "2024-01-08T04:29:39.017621Z",
     "start_time": "2024-01-08T04:29:39.015009Z"
    }
   },
   "id": "9521e5115b4a52a8"
  }
 ],
 "metadata": {
  "kernelspec": {
   "display_name": "Python 3",
   "language": "python",
   "name": "python3"
  },
  "language_info": {
   "codemirror_mode": {
    "name": "ipython",
    "version": 2
   },
   "file_extension": ".py",
   "mimetype": "text/x-python",
   "name": "python",
   "nbconvert_exporter": "python",
   "pygments_lexer": "ipython2",
   "version": "2.7.6"
  }
 },
 "nbformat": 4,
 "nbformat_minor": 5
}
