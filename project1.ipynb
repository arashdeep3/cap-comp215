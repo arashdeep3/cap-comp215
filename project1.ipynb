{
  "cells": [
    {
      "cell_type": "markdown",
      "metadata": {
        "id": "view-in-github",
        "colab_type": "text"
      },
      "source": [
        "<a href=\"https://colab.research.google.com/github/arashdeep3/cap-comp215/blob/main/project1.ipynb\" target=\"_parent\"><img src=\"https://colab.research.google.com/assets/colab-badge.svg\" alt=\"Open In Colab\"/></a>"
      ]
    },
    {
      "cell_type": "code",
      "execution_count": null,
      "metadata": {
        "colab": {
          "background_save": true,
          "base_uri": "https://localhost:8080/"
        },
        "id": "uBkVmDW_kkgU",
        "outputId": "743b2774-8b48-4406-e27d-d20a6f75e47e"
      },
      "outputs": [
        {
          "name": "stdout",
          "output_type": "stream",
          "text": [
            "26 asteroids identified.\n",
            "2024-02-26,14062779.02295264,2523971\n",
            "['523971 (1999 AJ39)',\n",
            " '(2008 UB95)',\n",
            " '(2018 DA)',\n",
            " '(2018 PD9)',\n",
            " '(2020 QL4)',\n",
            " '(2020 RP2)',\n",
            " '(2021 GQ7)',\n",
            " '(2021 LJ4)',\n",
            " '(2021 PX1)',\n",
            " '363505 (2003 UC20)',\n",
            " '(2011 CH71)',\n",
            " '(2011 EG17)',\n",
            " '(2016 PP27)',\n",
            " '(2017 EL)',\n",
            " '(2017 TJ4)',\n",
            " '(2018 CX1)',\n",
            " '(2018 EO4)',\n",
            " '(2020 OO1)',\n",
            " '(2021 FK1)',\n",
            " '(2021 TN14)',\n",
            " '(2022 EQ2)',\n",
            " '(2022 KA)',\n",
            " '(2023 EF)',\n",
            " '(2024 AF6)',\n",
            " '(2024 CD2)',\n",
            " '(2024 DF1)']\n"
          ]
        },
        {
          "ename": "KeyboardInterrupt",
          "evalue": "Interrupted by user",
          "output_type": "error",
          "traceback": [
            "\u001b[0;31m---------------------------------------------------------------------------\u001b[0m",
            "\u001b[0;31mKeyboardInterrupt\u001b[0m                         Traceback (most recent call last)",
            "\u001b[0;32m<ipython-input-66-e4e2296eae35>\u001b[0m in \u001b[0;36m<cell line: 68>\u001b[0;34m()\u001b[0m\n\u001b[1;32m     67\u001b[0m \u001b[0mcondiction\u001b[0m \u001b[0;34m=\u001b[0m \u001b[0;32mTrue\u001b[0m\u001b[0;34m\u001b[0m\u001b[0;34m\u001b[0m\u001b[0m\n\u001b[1;32m     68\u001b[0m \u001b[0;32mwhile\u001b[0m \u001b[0mcondiction\u001b[0m\u001b[0;34m:\u001b[0m\u001b[0;34m\u001b[0m\u001b[0;34m\u001b[0m\u001b[0m\n\u001b[0;32m---> 69\u001b[0;31m    \u001b[0mname\u001b[0m \u001b[0;34m=\u001b[0m \u001b[0minput\u001b[0m\u001b[0;34m(\u001b[0m\u001b[0;34m'neos name : '\u001b[0m\u001b[0;34m)\u001b[0m\u001b[0;34m\u001b[0m\u001b[0;34m\u001b[0m\u001b[0m\n\u001b[0m\u001b[1;32m     70\u001b[0m    \u001b[0;32mif\u001b[0m \u001b[0mname\u001b[0m \u001b[0;32min\u001b[0m \u001b[0mnames\u001b[0m\u001b[0;34m:\u001b[0m\u001b[0;34m\u001b[0m\u001b[0;34m\u001b[0m\u001b[0m\n\u001b[1;32m     71\u001b[0m     \u001b[0mname_in_list\u001b[0m\u001b[0;34m=\u001b[0m \u001b[0mnames\u001b[0m\u001b[0;34m.\u001b[0m\u001b[0mindex\u001b[0m\u001b[0;34m(\u001b[0m\u001b[0mname\u001b[0m\u001b[0;34m)\u001b[0m\u001b[0;34m\u001b[0m\u001b[0;34m\u001b[0m\u001b[0m\n",
            "\u001b[0;32m/usr/local/lib/python3.10/dist-packages/ipykernel/kernelbase.py\u001b[0m in \u001b[0;36mraw_input\u001b[0;34m(self, prompt)\u001b[0m\n\u001b[1;32m    849\u001b[0m                 \u001b[0;34m\"raw_input was called, but this frontend does not support input requests.\"\u001b[0m\u001b[0;34m\u001b[0m\u001b[0;34m\u001b[0m\u001b[0m\n\u001b[1;32m    850\u001b[0m             )\n\u001b[0;32m--> 851\u001b[0;31m         return self._input_request(str(prompt),\n\u001b[0m\u001b[1;32m    852\u001b[0m             \u001b[0mself\u001b[0m\u001b[0;34m.\u001b[0m\u001b[0m_parent_ident\u001b[0m\u001b[0;34m,\u001b[0m\u001b[0;34m\u001b[0m\u001b[0;34m\u001b[0m\u001b[0m\n\u001b[1;32m    853\u001b[0m             \u001b[0mself\u001b[0m\u001b[0;34m.\u001b[0m\u001b[0m_parent_header\u001b[0m\u001b[0;34m,\u001b[0m\u001b[0;34m\u001b[0m\u001b[0;34m\u001b[0m\u001b[0m\n",
            "\u001b[0;32m/usr/local/lib/python3.10/dist-packages/ipykernel/kernelbase.py\u001b[0m in \u001b[0;36m_input_request\u001b[0;34m(self, prompt, ident, parent, password)\u001b[0m\n\u001b[1;32m    893\u001b[0m             \u001b[0;32mexcept\u001b[0m \u001b[0mKeyboardInterrupt\u001b[0m\u001b[0;34m:\u001b[0m\u001b[0;34m\u001b[0m\u001b[0;34m\u001b[0m\u001b[0m\n\u001b[1;32m    894\u001b[0m                 \u001b[0;31m# re-raise KeyboardInterrupt, to truncate traceback\u001b[0m\u001b[0;34m\u001b[0m\u001b[0;34m\u001b[0m\u001b[0m\n\u001b[0;32m--> 895\u001b[0;31m                 \u001b[0;32mraise\u001b[0m \u001b[0mKeyboardInterrupt\u001b[0m\u001b[0;34m(\u001b[0m\u001b[0;34m\"Interrupted by user\"\u001b[0m\u001b[0;34m)\u001b[0m \u001b[0;32mfrom\u001b[0m \u001b[0;32mNone\u001b[0m\u001b[0;34m\u001b[0m\u001b[0;34m\u001b[0m\u001b[0m\n\u001b[0m\u001b[1;32m    896\u001b[0m             \u001b[0;32mexcept\u001b[0m \u001b[0mException\u001b[0m \u001b[0;32mas\u001b[0m \u001b[0me\u001b[0m\u001b[0;34m:\u001b[0m\u001b[0;34m\u001b[0m\u001b[0;34m\u001b[0m\u001b[0m\n\u001b[1;32m    897\u001b[0m                 \u001b[0mself\u001b[0m\u001b[0;34m.\u001b[0m\u001b[0mlog\u001b[0m\u001b[0;34m.\u001b[0m\u001b[0mwarning\u001b[0m\u001b[0;34m(\u001b[0m\u001b[0;34m\"Invalid Message:\"\u001b[0m\u001b[0;34m,\u001b[0m \u001b[0mexc_info\u001b[0m\u001b[0;34m=\u001b[0m\u001b[0;32mTrue\u001b[0m\u001b[0;34m)\u001b[0m\u001b[0;34m\u001b[0m\u001b[0;34m\u001b[0m\u001b[0m\n",
            "\u001b[0;31mKeyboardInterrupt\u001b[0m: Interrupted by user"
          ]
        }
      ],
      "source": [
        "import datetime\n",
        "import requests\n",
        "import json\n",
        "from pprint import pprint\n",
        "import matplotlib.pyplot as plt\n",
        "import networkx as nx\n",
        "\n",
        "\n",
        "def closest_hazard(close_approach_data2, id):\n",
        "\n",
        "    close_approach_dates = [item['close_approach_date'] for item in close_approach_data if item['orbiting_body'] == 'Earth']\n",
        "\n",
        "    miss_distance_km = [float(item['miss_distance']['kilometers']) for item in close_approach_data if item['orbiting_body'] == 'Earth']\n",
        "\n",
        "    closest_one_km =min(miss_distance_km)\n",
        "    closest_one_index = miss_distance_km.index(closest_one_km)\n",
        "    closest_one_date = close_approach_dates[closest_one_index]\n",
        "\n",
        "    return  (closest_one_date, closest_one_km, id)\n",
        "\n",
        "# Input parameters\n",
        "days = int(input('How many days of data do you want from today (put value in numbers)? : '))\n",
        "today = datetime.date.today()\n",
        "API_KEY1 = 'cbbD4qccwNkIgXr1H8saz8MawWEnJw9EDmZpm43P'\n",
        "end_date = today + datetime.timedelta(days=days)\n",
        "\n",
        "url = f'https://api.nasa.gov/neo/rest/v1/feed?start_date={today}&end_date={end_date}&api_key={API_KEY1}'\n",
        "\n",
        "# Fetch data from NeoWs API\n",
        "response = requests.get(url)\n",
        "data = json.loads(response.text)\n",
        "n_results = data['element_count']\n",
        "neos = data['near_earth_objects']\n",
        "\n",
        "print(f'{n_results} asteroids identified.')\n",
        "\n",
        "# Extract relevant dates\n",
        "dates = [today + datetime.timedelta(days=x) for x in range(days+1)]\n",
        "date_format = [datetime.date.strftime(date, '%Y-%m-%d') for date in dates]\n",
        "\n",
        "# Filter NEOs based on relevant dates\n",
        "hazards = [neos[item] for item in date_format]\n",
        "hazards_list = [hazards[i][j]['id'] for i in range(len(hazards)) for j in range(len(hazards[i]))]\n",
        "\n",
        "names = [hazards[i][j]['name'] for i in range(len(hazards)) for j in range(len(hazards[i]))]\n",
        "\n",
        "neos_data=[]\n",
        "for id in hazards_list:\n",
        "  url = f'https://api.nasa.gov/neo/rest/v1/neo/{id}?api_key={API_KEY1}'\n",
        "  response = requests.request(\"GET\", url, headers={}, data={})\n",
        "  data = json.loads(response.text)\n",
        "\n",
        "  data = data['close_approach_data']\n",
        "  result=list(closest_hazard(data, id))\n",
        "  neos_data.append(result)\n",
        "  # print(neos_data)\n",
        "\n",
        "closed_approach_distance= [neos_data[i][1] for i in range(len(neos_data))]\n",
        "minimum_approach_distance=min(closed_approach_distance)\n",
        "closed_approach_index=closed_approach_distance.index(minimum_approach_distance)\n",
        "\n",
        "closed_approach_date=neos_data[closed_approach_index][0]\n",
        "closed_approach_id=neos_data[closed_approach_index][2]\n",
        "\n",
        "print(closed_approach_date +','+ str(minimum_approach_distance) + ',' + str(closed_approach_id))\n",
        "pprint(names)\n",
        "condiction = True\n",
        "while condiction:\n",
        "   name = input('neos name : ')\n",
        "   if name in names:\n",
        "    name_in_list= names.index(name)\n",
        "    print(name_in_list)\n",
        "    id = hazards_list[name_in_list]\n",
        "    condiction = False\n",
        "\n",
        "url3 = f'https://api.nasa.gov/neo/rest/v1/neo/{id}?api_key={API_KEY1}'\n",
        "response3 = requests.request(\"GET\", url3, headers={}, data={})\n",
        "data4 = json.loads(response3.text)\n",
        "a=data4['close_approach_data']\n",
        "# print(a)\n",
        "dates = [data4['close_approach_data'][i]['close_approach_date'] for i in range(len(a))]\n",
        "miss_distance_list = [data4['close_approach_data'][i]['miss_distance']['kilometers'] for i in range(len(a))]\n",
        "# == data4['close_approach_data'][i]['miss_distance']['kilometers']\n",
        "# pprint(miss_distance_list)\n",
        "plt.plot(dates, miss_distance_list)\n",
        "plt.xlabel('Approach Dates')\n",
        "plt.ylabel('Miss Distance (km)')\n",
        "plt.title('Closest Approach Time-Series for NEOs')\n",
        "plt.legend()\n",
        "plt.show()"
      ]
    }
  ],
  "metadata": {
    "colab": {
      "provenance": [],
      "authorship_tag": "ABX9TyM0lVImozVUMuiJlVUiaiNY",
      "include_colab_link": true
    },
    "kernelspec": {
      "display_name": "Python 3",
      "name": "python3"
    },
    "language_info": {
      "name": "python"
    }
  },
  "nbformat": 4,
  "nbformat_minor": 0
}