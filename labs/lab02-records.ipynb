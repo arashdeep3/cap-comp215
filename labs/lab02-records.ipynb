{
  "nbformat": 4,
  "nbformat_minor": 0,
  "metadata": {
    "colab": {
      "name": "Lab2-NEO.ipynb",
      "provenance": []
    },
    "kernelspec": {
      "name": "python3",
      "language": "python",
      "display_name": "Python 3 (ipykernel)"
    },
    "language_info": {
      "name": "python"
    }
  },
  "cells": [
    {
      "cell_type": "markdown",
      "source": [
        "COMP 215 - LAB 2 Records (NEO)\n",
        "----------------\n",
        "#### Name:\n",
        "#### Date:\n",
        "\n",
        "This lab exercise is mostly a review of strings, tuples, lists, dictionaries, and functions.\n",
        "\n",
        "**Building on new concepts from lab 1**:\n",
        "  * `datetime.date` objects represent a calendar date\n",
        "  * *list comprehension* provides a compact way to represent map and filter algorithms\n",
        "\n",
        "**New Python Concepts**:\n",
        "  * *f-string* simplifies string formatting operations\n",
        "\n",
        "As usual, the first code cell simply imports all the modules we'll be using..."
      ],
      "metadata": {
        "id": "nbRPZPKZU5Pk"
      }
    },
    {
      "cell_type": "code",
      "execution_count": 27,
      "outputs": [],
      "source": [
        "import datetime, json, requests\n",
        "from pprint import pprint    # Pretty Print - built-in python function to nicely format data structures"
      ],
      "metadata": {
        "pycharm": {
          "name": "#%%\n"
        },
        "ExecuteTime": {
          "end_time": "2024-01-04T04:05:38.688434Z",
          "start_time": "2024-01-04T04:05:38.640552Z"
        },
        "id": "tL0XU9qRRfww"
      }
    },
    {
      "cell_type": "markdown",
      "source": [
        "We'll answer some questions about [Near Earth Objects](https://cneos.jpl.nasa.gov/)\n",
        "> using NASA's API:  [https://api.nasa.gov/](https://api.nasa.gov/#NeoWS)\n",
        "\n",
        "You should register for your own API key, (but may use the DEMO_KEY to get started).\n",
        "\n",
        "First we need a short tutorial on python dates and [f-strings](https://realpython.com/python-f-strings/)..."
      ],
      "metadata": {
        "collapsed": false,
        "pycharm": {
          "name": "#%% md\n"
        },
        "id": "BY73n4K2Rfwx"
      }
    },
    {
      "cell_type": "code",
      "execution_count": 28,
      "outputs": [
        {
          "output_type": "stream",
          "name": "stdout",
          "text": [
            "2024-01-22 <class 'datetime.date'>\n",
            "Today is: 2024-01-22\n"
          ]
        }
      ],
      "source": [
        "today = datetime.date.today()   # get a date object representing today's date\n",
        "print(today, type(today))\n",
        "formatted_date = f'Today is: {today}'   # A format string - notice how the variable `today` is formatted into the stringg\n",
        "print(formatted_date)"
      ],
      "metadata": {
        "pycharm": {
          "name": "#%%\n"
        },
        "ExecuteTime": {
          "end_time": "2024-01-04T04:05:38.691283Z",
          "start_time": "2024-01-04T04:05:38.688366Z"
        },
        "id": "LbyiO-D1Rfwy",
        "outputId": "274fcf24-f705-4bfe-d3bc-afe7c46f4a8e",
        "colab": {
          "base_uri": "https://localhost:8080/"
        }
      }
    },
    {
      "cell_type": "markdown",
      "source": [
        "### Make a query\n",
        "\n",
        "Let's get some data from the NEO database...\n",
        "Here's a query that gets the observation \"feed\" for today.\n",
        "(Note: I hard-coded the date below to lock down the data for the lab - ideally used `today()` so the notebook is always up-to-date.)"
      ],
      "metadata": {
        "collapsed": false,
        "pycharm": {
          "name": "#%% md\n"
        },
        "id": "JsQkpFsLRfwy"
      }
    },
    {
      "cell_type": "code",
      "execution_count": null,
      "outputs": [],
      "source": [
        "API_KEY = 'DEMO_KEY'  # substitute your API key here\n",
        "\n",
        "today = '2023-01-09'  #  Future enhancement:  str(datetime.date.today())   # Today's date as a string!\n",
        "# Use an f-string here to \"format\" the date and API key varaibles.\n",
        "url = f'https://api.nasa.gov/neo/rest/v1/feed?start_date={today}&end_date={today}&api_key={API_KEY}'\n",
        "\n",
        "response = requests.request(\"GET\", url, headers={}, data={})\n",
        "\n",
        "data = json.loads(response.text)  # recall json.loads for lab 1\n",
        "\n",
        "# TIP: print(data) to see the whole data structure returned, here we grab just the list of NEO's:\n",
        "n_results = data['element_count']\n",
        "neos = data['near_earth_objects'][today]\n",
        "\n",
        "print(f'{n_results} Near Earth Objects found for {today}')\n",
        "pprint(neos[:5])"
      ],
      "metadata": {
        "pycharm": {
          "name": "#%%\n"
        },
        "ExecuteTime": {
          "end_time": "2024-01-04T04:05:43.064157Z",
          "start_time": "2024-01-04T04:05:38.691252Z"
        },
        "id": "zECo6wxZRfwz"
      }
    },
    {
      "cell_type": "markdown",
      "source": [
        "Next we extract just the potentially hazerdous asteroids, using a Comp115-style list accumulator *loop*:"
      ],
      "metadata": {
        "collapsed": false,
        "pycharm": {
          "name": "#%% md\n"
        },
        "id": "2qmBSXNbRfwz"
      }
    },
    {
      "cell_type": "code",
      "execution_count": null,
      "metadata": {
        "id": "JDGbYTySU3BP",
        "ExecuteTime": {
          "end_time": "2024-01-04T04:05:43.065108Z",
          "start_time": "2024-01-04T04:05:43.062239Z"
        }
      },
      "outputs": [],
      "source": [
        "hazards =  []\n",
        "for item in neos:\n",
        "  if item['is_potentially_hazardous_asteroid'] is True:\n",
        "    hazards.append(item)\n",
        "print(hazards)\n",
        "print(f'{len(hazards)} potentially hazardous asteroids identified.')"
      ]
    },
    {
      "cell_type": "markdown",
      "source": [
        "## Exercise 1\n",
        "\n",
        "In the code cell below, **re-write the accumulator loop above** as a [list comprehension](https://realpython.com/lessons/list-comprehensions-overview/) that implements a [\"filter\"](https://youtu.be/hUes6y2b--0)\n",
        "Notice how this provides a concise way to \"filter\" items of interest from a larger data set."
      ],
      "metadata": {
        "collapsed": false,
        "pycharm": {
          "name": "#%% md\n"
        },
        "id": "IdjcKd4bRfwz"
      }
    },
    {
      "cell_type": "code",
      "execution_count": null,
      "outputs": [],
      "source": [
        "# Ex. 1 your code here\n",
        "hazards1 = [item for item in neos if item['is_potentially_hazardous_asteroid'] is True ]\n",
        "print(hazards1)\n",
        "print(f'{len(hazards1)} potentially hazardous asteroids identified.')\n"
      ],
      "metadata": {
        "pycharm": {
          "name": "#%%\n"
        },
        "ExecuteTime": {
          "end_time": "2024-01-04T04:05:43.069849Z",
          "start_time": "2024-01-04T04:05:43.065922Z"
        },
        "id": "qDrQfquRRfwz"
      }
    },
    {
      "cell_type": "markdown",
      "source": [
        "## Fetch Complete Data for One Asteroid\n",
        "\n",
        "Notice that the record for each `neo` is a dictionary with `id` field that uniquely identifies this record in the database.\n",
        "\n",
        "We can use this `id` to fetch complete orbital and close approach data for the NEO.\n",
        "\n",
        "For example, this query fetches the complete data set for the first hazardous asteroid...\n"
      ],
      "metadata": {
        "collapsed": false,
        "pycharm": {
          "name": "#%% md\n"
        },
        "id": "KDtQj28eRfwz"
      }
    },
    {
      "cell_type": "code",
      "execution_count": null,
      "outputs": [],
      "source": [
        "id = hazards[0]['id']\n",
        "url = f'https://api.nasa.gov/neo/rest/v1/neo/{id}?api_key={API_KEY}'\n",
        "response = requests.request(\"GET\", url, headers={}, data={})\n",
        "data = json.loads(response.text)\n",
        "\n",
        "pprint(data)"
      ],
      "metadata": {
        "pycharm": {
          "name": "#%%\n"
        },
        "ExecuteTime": {
          "end_time": "2024-01-04T04:05:43.787125Z",
          "start_time": "2024-01-04T04:05:43.067936Z"
        },
        "id": "qarfy4NFRfw0"
      }
    },
    {
      "cell_type": "markdown",
      "source": [
        "Notice that the `miss_distance` field contains the distance (in various units) by which the NEO missed an \"orbiting body\".\n",
        "\n",
        "## Exercise 2\n",
        "\n",
        "In the code cell below, write a python function that takes a list of \"close approach data\" as a parameter,\n",
        "and returns a 2-tuple with the (date, miss km) of the closest approach to Earth in the list (where \"miss km\" is the miss distance in km).\n",
        "\n",
        "Hints:\n",
        "* notice the input is a list of dictionaries.  Each dictionary has a 'close_approach_date\", \"orbiting_body\", and 'miss_distance' field.\n",
        "* we are only interested in the closest approach to \"Earth\"\n",
        "* use a loop if that is easier to understand - we will look at more compact algorithms to solve this problem in class.\n",
        "\n",
        "Add at least one unit test to check your work - note the test data only needs dictionaries with the fields your function actually uses.\n"
      ],
      "metadata": {
        "id": "DNRs7ynOYwYk"
      }
    },
    {
      "cell_type": "code",
      "source": [
        "# Ex. 2 your code here\n",
        "# used openai.com to take test_data for creating test\n",
        "def closest_hazard(close_approach_data):\n",
        "\n",
        "    close_approach_dates = [item['close_approach_date'] for item in close_approach_data if item['orbiting_body'] == 'Earth']\n",
        "\n",
        "    miss_distance_km = [float(item['miss_distance']['kilometers']) for item in close_approach_data if item['orbiting_body'] == 'Earth']\n",
        "\n",
        "    closest_one_km =min(miss_distance_km)\n",
        "    closest_one_index = miss_distance_km.index(closest_one_km)\n",
        "    closest_one_date = close_approach_dates[closest_one_index]\n",
        "\n",
        "    return  (closest_one_date, closest_one_km)\n",
        "\n",
        "def test(a):\n",
        "    test_data = [{'close_approach_date': '2024-01-01', 'orbiting_body': 'Earth', 'miss_distance': {'kilometers': '10000'}},\n",
        "      {'close_approach_date': '2024-02-01', 'orbiting_body': 'Mars', 'miss_distance': {'kilometers': '5000'}},\n",
        "      {'close_approach_date': '2024-03-01', 'orbiting_body': 'Earth', 'miss_distance': {'kilometers': '8000'}}]\n",
        "    result=closest_hazard(test_data)\n",
        "    print(result)\n",
        "\n",
        "\n",
        "data= data['close_approach_data']\n",
        "result=closest_hazard(data)\n",
        "print(result)\n",
        "test(\"for find mininum miss_distance in kms\")"
      ],
      "metadata": {
        "id": "tiyXTDfnZAd0",
        "ExecuteTime": {
          "end_time": "2024-01-04T04:05:43.790535Z",
          "start_time": "2024-01-04T04:05:43.787064Z"
        }
      },
      "execution_count": null,
      "outputs": []
    },
    {
      "cell_type": "markdown",
      "source": [
        "## Challenge - Take your skills to the next level...\n",
        "## Exercise 3\n",
        "\n",
        "In the code cell below, write a complete program that:\n",
        " 1. fetches the list of NEO's for this week.\n",
        " 2. for each NEO, fetch it's complete orbital data and determine its closest approach to Earth\n",
        " 3. identify which NEO from this week's data makes the closet approach to earth\n",
        " 4. print a nice message with information about the NEO, which it will approach the Earth, and how close it will come.\n",
        "\n",
        "Hints:\n",
        "* you'll need the start and end date - end date is today, see if you can use a [`timedelta`](https://docs.python.org/3/library/datetime.html#timedelta-objects) object to ge the start date (you can do basic \"date math\" with `timedelta` and `date` objects!)\n",
        "* you may need to modify the function we wrote in Ex. 2 to return a triple with the NEO's id included;\n",
        "* lots of opportunity here for more practice with list comprehensions\n"
      ],
      "metadata": {
        "collapsed": false,
        "id": "jrUL2_ZORfw0"
      }
    },
    {
      "cell_type": "code",
      "source": [
        "# Ex. 3 (challenge) your code here\n",
        "# used openai.com to learn the use of timedelta object\n",
        "import datetime, json, requests\n",
        "from pprint import pprint\n",
        "\n",
        "def closest_hazard2(close_approach_data2, id):\n",
        "\n",
        "    close_approach_dates2 = [item['close_approach_date'] for item in close_approach_data2 if item['orbiting_body'] == 'Earth']\n",
        "\n",
        "    miss_distance_km2 = [float(item['miss_distance']['kilometers']) for item in close_approach_data2 if item['orbiting_body'] == 'Earth']\n",
        "\n",
        "    closest_one_km2 =min(miss_distance_km2)\n",
        "    closest_one_index2 = miss_distance_km2.index(closest_one_km2)\n",
        "    closest_one_date2 = close_approach_dates2[closest_one_index2]\n",
        "\n",
        "    return  (closest_one_date2, closest_one_km2, id)\n",
        "\n",
        "today = datetime.date.today()\n",
        "formatted_date1 = f'Today is: {today}'\n",
        "API_KEY1 = 'DEMO_KEY'\n",
        "start_date= today-datetime.timedelta(days = 7)\n",
        "\n",
        "url1 = f'https://api.nasa.gov/neo/rest/v1/feed?start_date={start_date}&end_date={today}&api_key={API_KEY1}'\n",
        "\n",
        "response1 = requests.request(\"GET\", url1, headers={}, data={})\n",
        "\n",
        "data1 = json.loads(response1.text)\n",
        "n_results1 = data1['element_count']\n",
        "neos1 = data1['near_earth_objects']\n",
        "\n",
        "print(f'{n_results1} potentially hazardous asteroids identified.')\n",
        "\n",
        "dates=[start_date + datetime.timedelta(days = x) for x in range(8)]\n",
        "date_format = [datetime.date.strftime(date, '%Y-%m-%d') for date in dates]\n",
        "\n",
        "hazards1 = [neos1[item] for item in date_format]\n",
        "\n",
        "hazards_list=[hazards1[i][j]['id'] for i in range(len(hazards1)) for j in range(len(hazards1[i]))]\n",
        "\n",
        "neos_data=[]\n",
        "for id1 in hazards_list:\n",
        "  url2 = f'https://api.nasa.gov/neo/rest/v1/neo/{id1}?api_key={API_KEY1}'\n",
        "  response2 = requests.request(\"GET\", url2, headers={}, data={})\n",
        "  data2 = json.loads(response2.text)\n",
        "  print(data2)\n",
        "  data3= data2['close_approach_data']\n",
        "  result2=list(closest_hazard2(data3, id1))\n",
        "  neos_data.append(result2)\n",
        "  print(neos_data)\n",
        "\n",
        "closed_approach_distance= [neos_data[i][1] for i in range(len(neos_data))]\n",
        "minimum_approach_distance=min(closed_approach_distance)\n",
        "closed_approach_index=closed_approach_distance.index(minimum_approach_distance)\n",
        "closed_approach_id=neos_data[closed_approach_index][2]\n",
        "\n",
        "url3 = f'https://api.nasa.gov/neo/rest/v1/neo/{closed_approach_id}?api_key={API_KEY1}'\n",
        "response3 = requests.request(\"GET\", url3, headers={}, data={})\n",
        "data4 = json.loads(response3.text)\n",
        "\n",
        "pprint(data4)"
      ],
      "metadata": {
        "id": "Ds1YevErlzCe",
        "pycharm": {
          "name": "#%%\n"
        },
        "ExecuteTime": {
          "end_time": "2024-01-04T04:05:43.790766Z",
          "start_time": "2024-01-04T04:05:43.789211Z"
        }
      },
      "execution_count": null,
      "outputs": []
    }
  ]
}